{
 "cells": [
  {
   "cell_type": "code",
   "execution_count": null,
   "id": "e215c63f-f86a-4898-be70-a3ddbdeec4c5",
   "metadata": {},
   "outputs": [],
   "source": [
    "import pandas as pd\n",
    "from kafka import KafkaConsumer, KafkaProducer\n",
    "from time import sleep\n",
    "from json import dumps,loads\n",
    "import json"
   ]
  },
  {
   "cell_type": "code",
   "execution_count": null,
   "id": "d888215d",
   "metadata": {},
   "outputs": [],
   "source": [
    "from s3fs import S3FileSystem\n",
    "from kafka import KafkaConsumer\n",
    "from json import loads, dump\n",
    "import s3fs  "
   ]
  },
  {
   "cell_type": "code",
   "execution_count": null,
   "id": "4046371d-35bc-4855-a39e-53c4348bc8f2",
   "metadata": {},
   "outputs": [],
   "source": [
    "import s3fs \n",
    "\n",
    "\n",
    "s3 = s3fs.S3FileSystem()\n"
   ]
  },
  {
   "cell_type": "code",
   "execution_count": null,
   "id": "e0f09069-da41-48be-b7fc-e8a96cd30622",
   "metadata": {},
   "outputs": [],
   "source": [
    "consumer=KafkaConsumer('demo_testing2',\n",
    "                       bootstrap_servers=['43.204.237.120:9092'],\n",
    "                       value_deserializer=lambda x:loads(x.decode('utf-8') if x else none))"
   ]
  }
 ],
 "metadata": {
  "kernelspec": {
   "display_name": "Python 3 (ipykernel)",
   "language": "python",
   "name": "python3"
  },
  "language_info": {
   "codemirror_mode": {
    "name": "ipython",
    "version": 3
   },
   "file_extension": ".py",
   "mimetype": "text/x-python",
   "name": "python",
   "nbconvert_exporter": "python",
   "pygments_lexer": "ipython3",
   "version": "3.13.2"
  }
 },
 "nbformat": 4,
 "nbformat_minor": 5
}

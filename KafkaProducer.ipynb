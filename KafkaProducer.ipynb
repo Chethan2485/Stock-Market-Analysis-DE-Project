{
 "cells": [
  {
   "cell_type": "code",
   "execution_count": 13,
   "id": "0a93040b-b590-4d31-a950-8263cb537a32",
   "metadata": {},
   "outputs": [],
   "source": [
    "import pandas as pd\n",
    "from kafka import KafkaConsumer, KafkaProducer\n",
    "from time import sleep\n",
    "from json import dumps\n",
    "import json"
   ]
  },
  {
   "cell_type": "code",
   "execution_count": 14,
   "id": "5412131b-51e0-4167-a8eb-dd04149d2aff",
   "metadata": {},
   "outputs": [],
   "source": [
    "producer=KafkaProducer(bootstrap_servers=['43.204.237.120:9092'],\n",
    "                       value_serializer=lambda x:\n",
    "                       dumps(x).encode('utf-8'))"
   ]
  },
  {
   "cell_type": "code",
   "execution_count": 45,
   "id": "de141967-7bf3-4bd2-bde0-28c8293ac2f9",
   "metadata": {},
   "outputs": [
    {
     "data": {
      "text/plain": [
       "<kafka.producer.future.FutureRecordMetadata at 0x1e6637ec8d0>"
      ]
     },
     "execution_count": 45,
     "metadata": {},
     "output_type": "execute_result"
    }
   ],
   "source": [
    "producer.send('demo_testing2',value=\"{'hello':'world'}\")"
   ]
  },
  {
   "cell_type": "code",
   "execution_count": 16,
   "id": "640744cd-c54e-48a6-8505-7b449b5c944d",
   "metadata": {},
   "outputs": [
    {
     "data": {
      "text/plain": [
       "<kafka.producer.future.FutureRecordMetadata at 0x1e6612955b0>"
      ]
     },
     "execution_count": 16,
     "metadata": {},
     "output_type": "execute_result"
    }
   ],
   "source": [
    "producer.send('demo_testing2',value='chethan')"
   ]
  },
  {
   "cell_type": "code",
   "execution_count": 23,
   "id": "09c4ab36-7372-4770-8a57-c4b3cdc5b3c5",
   "metadata": {},
   "outputs": [
    {
     "data": {
      "text/plain": [
       "<kafka.producer.future.FutureRecordMetadata at 0x1e6616ad9a0>"
      ]
     },
     "execution_count": 23,
     "metadata": {},
     "output_type": "execute_result"
    }
   ],
   "source": [
    "producer.send('demo_testing2',value='sunil')\n"
   ]
  },
  {
   "cell_type": "code",
   "execution_count": 31,
   "id": "79c6f73b-1556-4539-94d3-73eb6883fc82",
   "metadata": {},
   "outputs": [],
   "source": [
    "df=pd.read_csv(\"indexProcessed.csv\")"
   ]
  },
  {
   "cell_type": "code",
   "execution_count": 55,
   "id": "7d92bfab-91f0-43fd-874d-b04237c26852",
   "metadata": {},
   "outputs": [],
   "source": [
    "producer.flush()"
   ]
  },
  {
   "cell_type": "code",
   "execution_count": null,
   "id": "31809170-b453-4d3b-bf4b-563488e5b272",
   "metadata": {},
   "outputs": [],
   "source": [
    "while True:\n",
    "    dict_stock=df.sample().to_dict(orient='records')\n",
    "    producer.send('demo_testing2',value=dict_stock)"
   ]
  }
 ],
 "metadata": {
  "kernelspec": {
   "display_name": "Python 3 (ipykernel)",
   "language": "python",
   "name": "python3"
  },
  "language_info": {
   "codemirror_mode": {
    "name": "ipython",
    "version": 3
   },
   "file_extension": ".py",
   "mimetype": "text/x-python",
   "name": "python",
   "nbconvert_exporter": "python",
   "pygments_lexer": "ipython3",
   "version": "3.13.2"
  }
 },
 "nbformat": 4,
 "nbformat_minor": 5
}
